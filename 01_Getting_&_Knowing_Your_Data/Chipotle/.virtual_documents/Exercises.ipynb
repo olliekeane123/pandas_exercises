





import pandas as pd
import numpy as np





url = 'https://raw.githubusercontent.com/justmarkham/DAT8/master/data/chipotle.tsv'





chipo = pd.read_csv(url, sep='\t')





pd.set_option('display.max_colwidth', None)


chipo.head(10)





# Solution 1
len(chipo)



# Solution 2
chipo.shape[0]






chipo.shape[1]





chipo.columns





chipo.index





most_ordered_item = chipo.groupby("item_name")["order_id"].count().idxmax()
print(most_ordered_item)





most_ordered_items = chipo.groupby("item_name")["order_id"].count().sort_values(ascending=False).reset_index()
most_ordered_items = most_ordered_items.rename(columns={"order_id":"num_of_orders"})
most_ordered_items.head(1)





most_ordered_in_item_description = chipo.groupby('choice_description')['order_id'].count().sort_values(ascending=False)
most_ordered_in_item_description.head(10)
most_ordered_in_item_description.idxmax()





chipo["quantity"].sum()








chipo.dtypes





chipo["item_price"] = chipo["item_price"].apply(lambda x: float(x.replace('$', '')))


# solution 2:  chipo["item_price"] = chipo["item_price"].str.slice(1).astype(float)





chipo.dtypes





revenue = f'${(chipo["quantity"] * chipo["item_price"]).sum()}'
print(revenue)





chipo["order_id"].nunique()
# solution 2: chipo["order_id"].value_counts().count()





# Solution 1
chipo['total_order_cost'] = chipo['quantity'] * chipo['item_price']
order_totals_mean = chipo.groupby('order_id')['total_order_cost'].sum().mean()
order_totals_mean


# Solution 2
chipo['total_order_cost'] = chipo['quantity'] * chipo['item_price']
mean_cost = chipo.groupby(by=['order_id'])['total_order_cost'].sum().mean()
print(mean_cost)






chipo["item_name"].nunique()



