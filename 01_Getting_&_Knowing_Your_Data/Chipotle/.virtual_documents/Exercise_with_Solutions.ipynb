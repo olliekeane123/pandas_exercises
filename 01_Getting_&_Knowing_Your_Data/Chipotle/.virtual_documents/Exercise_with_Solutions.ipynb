





import pandas as pd
import numpy as np








url = 'https://raw.githubusercontent.com/justmarkham/DAT8/master/data/chipotle.tsv'
    
chipo = pd.read_csv(url, sep = '\t')





chipo.head(10)





# Solution 1

chipo.shape[0]  # entries <= 4622 observations


# Solution 2

chipo.info() # entries <= 4622 observations





chipo.shape[1]





chipo.columns





chipo.index





c = chipo.groupby('item_name')
c = c.sum()
c = c.sort_values(['quantity'], ascending=False)
c.head(1)





c = chipo.groupby('item_name')
c = c.sum()
c = c.sort_values(['quantity'], ascending=False)
c.head(1)





c = chipo.groupby('choice_description').sum()
c = c.sort_values(['quantity'], ascending=False)
c.head(1)
# Diet Coke 159





total_items_orders = chipo.quantity.sum()
total_items_orders








chipo.item_price.dtype





dollarizer = lambda x: float(x[1:-1])
chipo.item_price = chipo.item_price.apply(dollarizer)





chipo.item_price.dtype





revenue = (chipo['quantity']* chipo['item_price']).sum()

print('Revenue was: $' + str(np.round(revenue,2)))





orders = chipo.order_id.value_counts().count()
orders





# Solution 1

chipo['revenue'] = chipo['quantity'] * chipo['item_price']
order_grouped = chipo.groupby(by=['order_id']).sum()
order_grouped.mean()['revenue']


# Solution 2
chipo.groupby(by=['order_id']).sum().mean()['revenue']





chipo.item_name.value_counts().count()
