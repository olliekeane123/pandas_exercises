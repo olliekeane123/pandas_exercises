











import pandas as pd


food = pd.read_csv('./archive/en.openfoodfacts.org.products.tsv', sep='\t')





food.head()





food.shape[0]





len(food.columns)





for c in food.columns[:10]:
    print(c)





food.columns[104]





food.dtypes["-glucose_100g"]





food.index





food["product_name"][18]



