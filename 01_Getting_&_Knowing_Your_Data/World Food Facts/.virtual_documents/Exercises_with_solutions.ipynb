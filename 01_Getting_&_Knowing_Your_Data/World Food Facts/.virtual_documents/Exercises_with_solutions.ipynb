








import pandas as pd
import numpy as np





food = pd.read_csv('~/Desktop/en.openfoodfacts.org.products.tsv', sep='\t')





food.head()





food.shape #will give you both (observations/rows, columns)


food.shape[0] #will give you only the observations/rows number





print(food.shape) #will give you both (observations/rows, columns)
print(food.shape[1]) #will give you only the columns number

#OR

food.info() #Columns: 163 entries





food.columns





food.columns[104]





food.dtypes['-glucose_100g']





food.index





food.values[18][7]
