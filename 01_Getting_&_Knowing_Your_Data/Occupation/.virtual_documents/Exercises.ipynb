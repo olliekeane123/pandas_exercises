





import pandas as pd





url = 'https://raw.githubusercontent.com/justmarkham/DAT8/master/data/u.user'





df = pd.read_csv(url, sep='|').set_index('user_id')





df.head(25)





df.tail(10)





df.info





df.shape





df.columns





df.index





df.dtypes





df["occupation"]





df["occupation"].nunique()





df["occupation"].value_counts().idxmax()


# df.groupby('occupation')["gender"].count().sort_values(ascending=False)





df.describe()





df.describe(include='all')





df["occupation"].describe()





df["age"].mean()





df["age"].value_counts().sort_values().head(10)
